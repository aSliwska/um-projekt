{
 "cells": [
  {
   "cell_type": "code",
   "execution_count": 1,
   "id": "f3fb4654",
   "metadata": {},
   "outputs": [],
   "source": [
    "import json\n",
    "import os"
   ]
  },
  {
   "cell_type": "code",
   "execution_count": 2,
   "id": "9d81e91e",
   "metadata": {},
   "outputs": [],
   "source": [
    "def cut(x):\n",
    "    return max(0, min(1, x))"
   ]
  },
  {
   "cell_type": "code",
   "execution_count": 3,
   "id": "583d1bf3",
   "metadata": {},
   "outputs": [],
   "source": [
    "def createLabelFiles(mode):\n",
    "    annotation_file = \"data/annotations/det_\" + mode + \".json\"\n",
    "    labels_dir = \"data/labels/\" + mode\n",
    "    img_w = 1280\n",
    "    img_h = 720\n",
    "\n",
    "    with open(annotation_file, 'r') as f:\n",
    "        coco_data = json.load(f)\n",
    "\n",
    "    images = {img['id']: img for img in coco_data['images']}\n",
    "    annotations = {img_id: [] for img_id in images.keys()}\n",
    "\n",
    "    # Populate annotations for each image\n",
    "    for ann in coco_data['annotations']:\n",
    "        if ann['image_id'] in annotations:\n",
    "            annotations[ann['image_id']].append(ann)\n",
    "\n",
    "    category_id_to_name = {(cat['id'] - 1): cat['name'] for cat in coco_data['categories']}\n",
    "\n",
    "    # Get a list of image IDs to iterate over\n",
    "    image_ids = list(images.keys())\n",
    "\n",
    "\n",
    "    for idx in range(len(image_ids)):\n",
    "        image_id = image_ids[idx]\n",
    "        image_filename = images[image_id]['file_name'].rstrip('.jpg') + \".txt\"\n",
    "        label_path = os.path.join(labels_dir, image_filename)\n",
    "\n",
    "        image_annotations = annotations.get(image_id, [])\n",
    "        boxes = []\n",
    "        labels = []\n",
    "\n",
    "        for ann in image_annotations:\n",
    "            x_min, y_min, width, height = ann['bbox']\n",
    "            x_center = cut((x_min + width / 2) / img_w)\n",
    "            y_center = cut((y_min + height / 2) / img_h)\n",
    "            width = cut(width / img_w)\n",
    "            height = cut(height / img_h)\n",
    "\n",
    "            boxes.append([x_center, y_center, width, height])\n",
    "            labels.append(ann['category_id'] - 1)\n",
    "\n",
    "        with open(label_path, 'w') as f:\n",
    "            for i in range(len(boxes)):\n",
    "                f.write(str(labels[i]) + \" \" + \" \".join([f'{x:.6f}' for x in boxes[i]]) + \"\\n\")\n",
    "    \n",
    "    return images, annotations, category_id_to_name"
   ]
  },
  {
   "cell_type": "code",
   "execution_count": 4,
   "id": "3eece19a",
   "metadata": {},
   "outputs": [],
   "source": [
    "_ = createLabelFiles(\"val\")"
   ]
  },
  {
   "cell_type": "code",
   "execution_count": 5,
   "id": "19da9dac",
   "metadata": {},
   "outputs": [],
   "source": [
    "images, annotations, category_id_to_name = createLabelFiles(\"train\")"
   ]
  },
  {
   "cell_type": "code",
   "execution_count": 6,
   "id": "be026d6e",
   "metadata": {},
   "outputs": [
    {
     "name": "stdout",
     "output_type": "stream",
     "text": [
      "1\n",
      "{'file_name': '0000f77c-6257be58.jpg', 'height': 720, 'width': 1280, 'id': 1, 'attributes': {'weather': 'clear', 'timeofday': 'daytime', 'scene': 'city street'}}\n"
     ]
    }
   ],
   "source": [
    "for keys,values in images.items():\n",
    "    print(keys)\n",
    "    print(values)\n",
    "    break"
   ]
  },
  {
   "cell_type": "code",
   "execution_count": 7,
   "id": "43bdbe94",
   "metadata": {},
   "outputs": [
    {
     "name": "stdout",
     "output_type": "stream",
     "text": [
      "1\n",
      "{'id': 1, 'image_id': 1, 'category_id': 9, 'scalabel_id': '0', 'iscrowd': 0, 'ignore': 0, 'bbox': [1125.902264, 133.184488, 32.076380999999856, 78.69095700000003], 'area': 2524.1211179866064}\n",
      "{'id': 2, 'image_id': 1, 'category_id': 9, 'scalabel_id': '1', 'iscrowd': 0, 'ignore': 0, 'bbox': [1156.978645, 136.637417, 35.529315, 75.23802599999999], 'area': 2673.1555257321893}\n",
      "{'id': 3, 'image_id': 1, 'category_id': 10, 'scalabel_id': '2', 'iscrowd': 0, 'ignore': 0, 'bbox': [1105.66915985699, 211.122087, 66.12121014300988, 23.444053999999994], 'area': 1550.149221138071}\n",
      "{'id': 4, 'image_id': 1, 'category_id': 10, 'scalabel_id': '3', 'iscrowd': 0, 'ignore': 0, 'bbox': [0.0, 0.246631, 101.381647, 123.579065], 'area': 12528.649144420055}\n",
      "{'id': 5, 'image_id': 1, 'category_id': 3, 'scalabel_id': '4', 'iscrowd': 0, 'ignore': 0, 'bbox': [49.44476737704903, 254.530367, 309.36107062295093, 234.37584799999996], 'area': 72506.763265442}\n",
      "{'id': 6, 'image_id': 1, 'category_id': 3, 'scalabel_id': '5', 'iscrowd': 0, 'ignore': 0, 'bbox': [507.82755, 221.727518, 401.540038, 220.2777271528153], 'area': 88450.32693149507}\n",
      "{'id': 7, 'image_id': 1, 'category_id': 10, 'scalabel_id': '6', 'iscrowd': 0, 'ignore': 0, 'bbox': [0.156955, 0.809282, 103.260474, 133.602574], 'area': 13795.865118860076}\n"
     ]
    }
   ],
   "source": [
    "for keys,values in annotations.items():\n",
    "    print(keys)\n",
    "    for val in values:\n",
    "        print(val)\n",
    "    break"
   ]
  },
  {
   "cell_type": "code",
   "execution_count": 8,
   "id": "ad07ca19",
   "metadata": {},
   "outputs": [
    {
     "name": "stdout",
     "output_type": "stream",
     "text": [
      "{0: 'pedestrian', 1: 'rider', 2: 'car', 3: 'truck', 4: 'bus', 5: 'train', 6: 'motorcycle', 7: 'bicycle', 8: 'traffic light', 9: 'traffic sign'}\n"
     ]
    }
   ],
   "source": [
    "print(category_id_to_name)"
   ]
  }
 ],
 "metadata": {
  "kernelspec": {
   "display_name": "Python 3",
   "language": "python",
   "name": "python3"
  },
  "language_info": {
   "codemirror_mode": {
    "name": "ipython",
    "version": 3
   },
   "file_extension": ".py",
   "mimetype": "text/x-python",
   "name": "python",
   "nbconvert_exporter": "python",
   "pygments_lexer": "ipython3",
   "version": "3.13.3"
  }
 },
 "nbformat": 4,
 "nbformat_minor": 5
}
