{
 "cells": [
  {
   "cell_type": "code",
   "execution_count": 1,
   "id": "564f2b7acaffe31a",
   "metadata": {},
   "outputs": [],
   "source": [
    "import cv2\n",
    "from tqdm import tqdm\n",
    "import os\n",
    "import json\n",
    "from pycocotools.coco import COCO\n",
    "from pycocotools.cocoeval import COCOeval\n",
    "import numpy as np\n",
    "import matplotlib.pyplot as plt"
   ]
  },
  {
   "cell_type": "code",
   "execution_count": 2,
   "id": "fb719081e11b0e4c",
   "metadata": {
    "ExecuteTime": {
     "end_time": "2025-06-11T22:56:40.856743Z",
     "start_time": "2025-06-11T22:55:47.642928Z"
    }
   },
   "outputs": [
    {
     "name": "stderr",
     "output_type": "stream",
     "text": [
      "100%|██████████| 20000/20000 [00:15<00:00, 1268.97it/s]\n"
     ]
    },
    {
     "name": "stdout",
     "output_type": "stream",
     "text": [
      "Konwersja zakończona!\n"
     ]
    }
   ],
   "source": [
    "image_dir = 'data/images/val'\n",
    "label_dir = 'data/labels/val'\n",
    "\n",
    "classes = [\n",
    "    'pedestrian',\n",
    "    'bicycle',\n",
    "    'car',\n",
    "    'motorcycle',\n",
    "    'rider',\n",
    "    'bus',\n",
    "    'train',\n",
    "    'truck',\n",
    "    'traffic sign',\n",
    "    'traffic light'\n",
    "]\n",
    "\n",
    "coco_output = {\n",
    "    \"info\": {}, # quite important - det_val.json doest not have this field and cocotools require this field\n",
    "    \"licenses\": [],\n",
    "    \"images\": [],\n",
    "    \"annotations\": [],\n",
    "    \"categories\": []\n",
    "}\n",
    "\n",
    "# add categories\n",
    "for idx, class_name in enumerate(classes, 1):\n",
    "    coco_output['categories'].append({\n",
    "        \"id\": idx,\n",
    "        \"name\": class_name,\n",
    "        \"supercategory\": \"object\"\n",
    "    })\n",
    "\n",
    "annotation_id = 1\n",
    "\n",
    "for img_id, img_file in enumerate(tqdm(os.listdir(image_dir)), 1):\n",
    "    if not img_file.endswith(('.jpg', '.png', '.jpeg')):\n",
    "        continue\n",
    "\n",
    "    img_path = os.path.join(image_dir, img_file)\n",
    "    img = cv2.imread(img_path)\n",
    "    h, w, _ = img.shape\n",
    "\n",
    "    coco_output['images'].append({\n",
    "        \"id\": img_id,\n",
    "        \"file_name\": img_file,\n",
    "        \"height\": h,\n",
    "        \"width\": w\n",
    "    })\n",
    "\n",
    "    # search for correct label\n",
    "    label_file = os.path.splitext(img_file)[0] + '.txt'\n",
    "    label_path = os.path.join(label_dir, label_file)\n",
    "    if not os.path.exists(label_path):\n",
    "        continue\n",
    "\n",
    "    with open(label_path, 'r') as f:\n",
    "        lines = f.readlines()\n",
    "\n",
    "    for line in lines:\n",
    "        parts = line.strip().split()\n",
    "        class_id = int(parts[0]) + 1  # COCO class_id starts with 1\n",
    "        x_center, y_center, bbox_width, bbox_height = map(float, parts[1:])\n",
    "\n",
    "        x = (x_center - bbox_width / 2) * w\n",
    "        y = (y_center - bbox_height / 2) * h\n",
    "        width_abs = bbox_width * w\n",
    "        height_abs = bbox_height * h\n",
    "\n",
    "        annotation = {\n",
    "            \"id\": annotation_id,\n",
    "            \"image_id\": img_id,\n",
    "            \"category_id\": class_id,\n",
    "            \"bbox\": [x, y, width_abs, height_abs],\n",
    "            \"area\": width_abs * height_abs,\n",
    "            \"iscrowd\": 0\n",
    "        }\n",
    "        coco_output['annotations'].append(annotation)\n",
    "        annotation_id += 1\n",
    "\n",
    "with open('data/annotations/converted_coco.json', 'w') as outfile:\n",
    "    json.dump(coco_output, outfile, indent=4)\n",
    "\n",
    "print(\"Konwersja zakończona!\")\n"
   ]
  },
  {
   "cell_type": "code",
   "execution_count": 3,
   "id": "2d14139acd88ae9",
   "metadata": {
    "ExecuteTime": {
     "end_time": "2025-06-11T23:03:18.045917Z",
     "start_time": "2025-06-11T23:01:53.924902Z"
    }
   },
   "outputs": [],
   "source": [
    "gt_path = 'data/annotations/converted_coco.json'\n",
    "pred_path = 'runs/detect/whole2-val-last/predictions.json'\n",
    "\n",
    "with open(gt_path) as f:\n",
    "    gt = json.load(f)\n",
    "\n",
    "filename_to_id = {os.path.splitext(img['file_name'])[0]: img['id'] for img in gt['images']}\n",
    "\n",
    "with open(pred_path) as f:\n",
    "    preds = json.load(f)\n",
    "\n",
    "for pred in preds:\n",
    "    file = os.path.splitext(os.path.basename(pred['image_id']))[0]\n",
    "    pred['image_id'] = filename_to_id[file]\n",
    "\n",
    "with open(pred_path, 'w') as f:\n",
    "    json.dump(preds, f)\n"
   ]
  },
  {
   "cell_type": "code",
   "execution_count": 4,
   "id": "initial_id",
   "metadata": {
    "ExecuteTime": {
     "end_time": "2025-06-11T23:08:22.345176Z",
     "start_time": "2025-06-11T23:03:35.471529Z"
    },
    "collapsed": true
   },
   "outputs": [
    {
     "name": "stdout",
     "output_type": "stream",
     "text": [
      "loading annotations into memory...\n",
      "Done (t=0.40s)\n",
      "creating index...\n",
      "index created!\n",
      "Loading and preparing results...\n",
      "DONE (t=1.25s)\n",
      "creating index...\n",
      "index created!\n",
      "Running per image evaluation...\n",
      "Evaluate annotation type *bbox*\n",
      "DONE (t=38.49s).\n",
      "Accumulating evaluation results...\n",
      "DONE (t=4.23s).\n",
      " Average Precision  (AP) @[ IoU=0.50:0.95 | area=   all | maxDets=100 ] = 0.248\n",
      " Average Precision  (AP) @[ IoU=0.50      | area=   all | maxDets=100 ] = 0.453\n",
      " Average Precision  (AP) @[ IoU=0.75      | area=   all | maxDets=100 ] = 0.227\n",
      " Average Precision  (AP) @[ IoU=0.50:0.95 | area= small | maxDets=100 ] = 0.077\n",
      " Average Precision  (AP) @[ IoU=0.50:0.95 | area=medium | maxDets=100 ] = 0.281\n",
      " Average Precision  (AP) @[ IoU=0.50:0.95 | area= large | maxDets=100 ] = 0.503\n",
      " Average Recall     (AR) @[ IoU=0.50:0.95 | area=   all | maxDets=  1 ] = 0.182\n",
      " Average Recall     (AR) @[ IoU=0.50:0.95 | area=   all | maxDets= 10 ] = 0.332\n",
      " Average Recall     (AR) @[ IoU=0.50:0.95 | area=   all | maxDets=100 ] = 0.349\n",
      " Average Recall     (AR) @[ IoU=0.50:0.95 | area= small | maxDets=100 ] = 0.161\n",
      " Average Recall     (AR) @[ IoU=0.50:0.95 | area=medium | maxDets=100 ] = 0.409\n",
      " Average Recall     (AR) @[ IoU=0.50:0.95 | area= large | maxDets=100 ] = 0.588\n",
      "mAP@[0.50:0.95]: 0.248\n",
      "mAP@0.50: 0.453\n"
     ]
    }
   ],
   "source": [
    "gt_path = 'data/annotations/converted_coco.json'\n",
    "pred_path = 'runs/detect/whole2-val-last/predictions.json'\n",
    "\n",
    "cocoGt = COCO(gt_path)\n",
    "with open(pred_path) as f:\n",
    "    preds = json.load(f)\n",
    "cocoDt = cocoGt.loadRes(preds)\n",
    "\n",
    "cocoEval = COCOeval(cocoGt, cocoDt, iouType='bbox')\n",
    "cocoEval.evaluate()\n",
    "cocoEval.accumulate()\n",
    "cocoEval.summarize()\n",
    "\n",
    "# global mAP\n",
    "mAP_50_95 = cocoEval.stats[0]\n",
    "mAP_50 = cocoEval.stats[1]\n",
    "\n",
    "print(f'mAP@[0.50:0.95]: {mAP_50_95:.3f}')\n",
    "print(f'mAP@0.50: {mAP_50:.3f}')\n"
   ]
  },
  {
   "cell_type": "markdown",
   "id": "45eb1fec9af8297f",
   "metadata": {},
   "source": [
    "Podstay detekcji obiektów:\n",
    "\n",
    " - Detektor przewiduje:\n",
    "\n",
    "    - lokalizację: prostokąt (bounding box)\n",
    "\n",
    "    - klasę: np. \"pedestrian\", \"car\" itd.\n",
    "\n",
    " - Ewaluacja polega na porównaniu predykcji z rzeczywistą pozycją obiektu (ground truth)\n",
    "\n",
    " - Kluczowe pojęcie: IoU (Intersection over Union)\n",
    "\n",
    "     - mówi o tym jak bardzo na siebie nachodzą predykowany i prawdziwy bounding box.\n",
    "\n",
    "     - IoU = powierzchnia wspólna / powierzchnia sumy."
   ]
  },
  {
   "cell_type": "markdown",
   "id": "f9dd2d3f17b45a39",
   "metadata": {},
   "source": [
    "mAP = średnia precyzja po różnych wartościach IoU i klasach.\n",
    "\n",
    "Oznacza:\n",
    "\n",
    "   - liczymy AP dla IoU: 0.5, 0.55, 0.60, ..., 0.95 (co 0.05)\n",
    "\n",
    "   - średnia z tych 10 wyników = mAP@[0.5:0.95]\n",
    "\n",
    "Dlaczego to robimy?\n",
    "Bo chcemy wiedzieć, czy detektor dobrze przewiduje nie tylko przybliżone ale też precyzyjne pozycje obiektów."
   ]
  },
  {
   "cell_type": "code",
   "execution_count": 5,
   "id": "85948b29c1085a71",
   "metadata": {
    "ExecuteTime": {
     "end_time": "2025-06-11T23:08:52.065806Z",
     "start_time": "2025-06-11T23:08:52.060894Z"
    }
   },
   "outputs": [],
   "source": [
    "T = cocoEval.eval['precision'].shape"
   ]
  },
  {
   "cell_type": "code",
   "execution_count": 6,
   "id": "4c0e0d33fc940e2d",
   "metadata": {
    "ExecuteTime": {
     "end_time": "2025-06-11T23:09:05.690524Z",
     "start_time": "2025-06-11T23:09:05.472240Z"
    }
   },
   "outputs": [
    {
     "data": {
      "image/png": "[encoded data removed]",
      "text/plain": [
       "<Figure size 1200x600 with 1 Axes>"
      ]
     },
     "metadata": {},
     "output_type": "display_data"
    }
   ],
   "source": [
    "class_names = ['pedestrian', 'bicycle', 'car', 'motorcycle', 'rider', 'bus', 'train', 'truck', 'traffic sign', 'traffic light']\n",
    "\n",
    "precisions = cocoEval.eval['precision']\n",
    "iou_thr = 0  #  0 means 0.5:0.95 mAP\n",
    "\n",
    "per_class_ap = []\n",
    "\n",
    "for i, class_name in enumerate(class_names):\n",
    "    precision = precisions[iou_thr, :, i, 0, 2]  # area=all, maxDets=100\n",
    "    precision = precision[precision > -1]\n",
    "    ap = np.mean(precision) if precision.size else 0\n",
    "    per_class_ap.append(ap * 100)\n",
    "\n",
    "# plots\n",
    "plt.figure(figsize=(12, 6))\n",
    "plt.bar(class_names, per_class_ap)\n",
    "plt.ylabel('mAP 0.5:0.95 [%]')\n",
    "plt.xticks(rotation=45)\n",
    "plt.title('Per-class mAP')\n",
    "plt.show()\n"
   ]
  },
  {
   "cell_type": "markdown",
   "id": "b6d6397ca7c9a5a5",
   "metadata": {},
   "source": [
    "Dzielimy obiekty wg wielkości (przez powierzchnię bboxa)\n",
    "\n",
    "Model gorzej wykrywa małe obiekty (small) — bo są trudniejsze: mniej pikseli, gorzej widoczne.\n",
    "\n",
    "Najlepiej radzi sobie z dużymi obiektami."
   ]
  },
  {
   "cell_type": "code",
   "execution_count": 7,
   "id": "4cee4e73d7a6602",
   "metadata": {
    "ExecuteTime": {
     "end_time": "2025-06-11T23:10:14.514600Z",
     "start_time": "2025-06-11T23:10:14.406318Z"
    }
   },
   "outputs": [
    {
     "data": {
      "image/png": "[encoded data removed]",
      "text/plain": [
       "<Figure size 800x500 with 1 Axes>"
      ]
     },
     "metadata": {},
     "output_type": "display_data"
    }
   ],
   "source": [
    "# small, medium, large:\n",
    "# 0: all\n",
    "# 1: small\n",
    "# 2: medium\n",
    "# 3: large\n",
    "\n",
    "size_labels = ['all', 'small', 'medium', 'large']\n",
    "\n",
    "ap_sizewise = []\n",
    "for i in range(4):\n",
    "    ap = cocoEval.stats[1 + i] * 100  # stats[1] = small, [2]=medium, [3]=large\n",
    "    ap_sizewise.append(ap)\n",
    "\n",
    "plt.figure(figsize=(8, 5))\n",
    "plt.bar(size_labels, ap_sizewise)\n",
    "plt.ylabel('AP [%]')\n",
    "plt.title('Size-wise AP')\n",
    "plt.show()\n"
   ]
  }
 ],
 "metadata": {
  "kernelspec": {
   "display_name": "Python 3",
   "language": "python",
   "name": "python3"
  },
  "language_info": {
   "codemirror_mode": {
    "name": "ipython",
    "version": 3
   },
   "file_extension": ".py",
   "mimetype": "text/x-python",
   "name": "python",
   "nbconvert_exporter": "python",
   "pygments_lexer": "ipython3",
   "version": "3.13.3"
  }
 },
 "nbformat": 4,
 "nbformat_minor": 5
}
