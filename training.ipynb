{
 "cells": [
  {
   "cell_type": "code",
   "execution_count": 1,
   "id": "5398bf90",
   "metadata": {
    "ExecuteTime": {
     "end_time": "2025-06-10T21:02:00.548040Z",
     "start_time": "2025-06-10T21:01:59.685085Z"
    }
   },
   "outputs": [],
   "source": [
    "from ultralytics import YOLO"
   ]
  },
  {
   "cell_type": "code",
   "execution_count": null,
   "id": "2a70e681",
   "metadata": {
    "ExecuteTime": {
     "end_time": "2025-06-10T21:02:07.476726Z",
     "start_time": "2025-06-10T21:02:04.295035Z"
    }
   },
   "outputs": [
    {
     "name": "stdout",
     "output_type": "stream",
     "text": [
      "\n",
      "image 1/20000 C:\\Users\\Adam\\PycharmProjects\\um-projekt\\data\\images\\test\\cabc30fc-e7726578.jpg: 384x640 1 person, 4 cars, 65.3ms\n"
     ]
    }
   ],
   "source": [
    "before_training_model = YOLO(\"model/yolo11n.pt\")\n",
    "before_training_results = before_training_model.predict('data/images/test', stream=True)\n",
    "\n",
    "for r in before_training_results:\n",
    "    r.show()\n",
    "    break\n",
    "\n",
    "before_training_results=None"
   ]
  },
  {
   "cell_type": "code",
   "execution_count": null,
   "id": "7495fdaa",
   "metadata": {
    "ExecuteTime": {
     "end_time": "2025-06-10T21:27:04.739177Z",
     "start_time": "2025-06-10T21:02:13.806760Z"
    }
   },
   "outputs": [
    {
     "name": "stdout",
     "output_type": "stream",
     "text": [
      "New https://pypi.org/project/ultralytics/8.3.153 available 😃 Update with 'pip install -U ultralytics'\n",
      "Ultralytics 8.3.152 🚀 Python-3.13.3 torch-2.7.1+rocm6.3 CUDA:0 (AMD Radeon RX 7800 XT, 16368MiB)\n",
      "\u001b[34m\u001b[1mengine/trainer: \u001b[0magnostic_nms=False, amp=True, augment=False, auto_augment=randaugment, batch=23, bgr=0.0, box=6.5, cache=False, cfg=None, classes=None, close_mosaic=0, cls=1.0, conf=0.01, copy_paste=0.0, copy_paste_mode=flip, cos_lr=False, cutmix=0.0, data=bdd100k.yaml, degrees=0.0, deterministic=True, device=0, dfl=2.0, dnn=False, dropout=0.2, dynamic=False, embed=None, epochs=100, erasing=0.4, exist_ok=False, fliplr=0.5, flipud=0.0, format=torchscript, fraction=1.0, freeze=None, half=True, hsv_h=0.015, hsv_s=0.7, hsv_v=0.4, imgsz=640, int8=False, iou=0.5, keras=False, kobj=1.0, line_width=None, lr0=0.01, lrf=0.01, mask_ratio=4, max_det=100, mixup=0.0, mode=train, model=model/yolo11n.pt, momentum=0.9, mosaic=1.0, multi_scale=False, name=whole2, nbs=64, nms=False, opset=None, optimize=False, optimizer=AdamW, overlap_mask=True, patience=40, perspective=0.0, plots=True, pose=12.0, pretrained=True, profile=False, project=None, rect=False, resume=False, retina_masks=False, save=True, save_conf=False, save_crop=False, save_dir=runs/detect/whole2, save_frames=False, save_json=False, save_period=1, save_txt=False, scale=0.5, seed=42, shear=0.0, show=False, show_boxes=True, show_conf=True, show_labels=True, simplify=True, single_cls=False, source=None, split=val, stream_buffer=False, task=detect, time=8.0, tracker=botsort.yaml, translate=0.1, val=True, verbose=True, vid_stride=1, visualize=False, warmup_bias_lr=0.1, warmup_epochs=3, warmup_momentum=0.8, weight_decay=0.0005, workers=12, workspace=None\n",
      "\n",
      "                   from  n    params  module                                       arguments                     \n",
      "  0                  -1  1       464  ultralytics.nn.modules.conv.Conv             [3, 16, 3, 2]                 \n",
      "  1                  -1  1      4672  ultralytics.nn.modules.conv.Conv             [16, 32, 3, 2]                \n",
      "  2                  -1  1      6640  ultralytics.nn.modules.block.C3k2            [32, 64, 1, False, 0.25]      \n",
      "  3                  -1  1     36992  ultralytics.nn.modules.conv.Conv             [64, 64, 3, 2]                \n",
      "  4                  -1  1     26080  ultralytics.nn.modules.block.C3k2            [64, 128, 1, False, 0.25]     \n",
      "  5                  -1  1    147712  ultralytics.nn.modules.conv.Conv             [128, 128, 3, 2]              \n",
      "  6                  -1  1     87040  ultralytics.nn.modules.block.C3k2            [128, 128, 1, True]           \n",
      "  7                  -1  1    295424  ultralytics.nn.modules.conv.Conv             [128, 256, 3, 2]              \n",
      "  8                  -1  1    346112  ultralytics.nn.modules.block.C3k2            [256, 256, 1, True]           \n",
      "  9                  -1  1    164608  ultralytics.nn.modules.block.SPPF            [256, 256, 5]                 \n",
      " 10                  -1  1    249728  ultralytics.nn.modules.block.C2PSA           [256, 256, 1]                 \n",
      " 11                  -1  1         0  torch.nn.modules.upsampling.Upsample         [None, 2, 'nearest']          \n",
      " 12             [-1, 6]  1         0  ultralytics.nn.modules.conv.Concat           [1]                           \n",
      " 13                  -1  1    111296  ultralytics.nn.modules.block.C3k2            [384, 128, 1, False]          \n",
      " 14                  -1  1         0  torch.nn.modules.upsampling.Upsample         [None, 2, 'nearest']          \n",
      " 15             [-1, 4]  1         0  ultralytics.nn.modules.conv.Concat           [1]                           \n",
      " 16                  -1  1     32096  ultralytics.nn.modules.block.C3k2            [256, 64, 1, False]           \n",
      " 17                  -1  1     36992  ultralytics.nn.modules.conv.Conv             [64, 64, 3, 2]                \n",
      " 18            [-1, 13]  1         0  ultralytics.nn.modules.conv.Concat           [1]                           \n",
      " 19                  -1  1     86720  ultralytics.nn.modules.block.C3k2            [192, 128, 1, False]          \n",
      " 20                  -1  1    147712  ultralytics.nn.modules.conv.Conv             [128, 128, 3, 2]              \n",
      " 21            [-1, 10]  1         0  ultralytics.nn.modules.conv.Concat           [1]                           \n",
      " 22                  -1  1    378880  ultralytics.nn.modules.block.C3k2            [384, 256, 1, True]           \n",
      " 23        [16, 19, 22]  1    432622  ultralytics.nn.modules.head.Detect           [10, [64, 128, 256]]          \n",
      "YOLO11n summary: 181 layers, 2,591,790 parameters, 2,591,774 gradients, 6.5 GFLOPs\n",
      "\n",
      "Transferred 94/499 items from pretrained weights\n",
      "Freezing layer 'model.23.dfl.conv.weight'\n",
      "\u001b[34m\u001b[1mAMP: \u001b[0mrunning Automatic Mixed Precision (AMP) checks...\n",
      "\u001b[34m\u001b[1mAMP: \u001b[0mchecks passed ✅\n",
      "\u001b[34m\u001b[1mtrain: \u001b[0mFast image access ✅ (ping: 0.4±0.4 ms, read: 129.4±41.9 MB/s, size: 54.6 KB)\n"
     ]
    },
    {
     "name": "stderr",
     "output_type": "stream",
     "text": [
      "\u001b[34m\u001b[1mtrain: \u001b[0mScanning /home/carmel/Desktop/studia/um/um-projekt/data/labels/train.cache... 69863 images, 147 backgrounds, 0 corrupt: 100%|██████████| 70000/70000 [00:00<?, ?it/s]\n"
     ]
    },
    {
     "name": "stdout",
     "output_type": "stream",
     "text": [
      "\u001b[34m\u001b[1mval: \u001b[0mFast image access ✅ (ping: 0.0±0.0 ms, read: 72.4±21.1 MB/s, size: 41.1 KB)\n"
     ]
    },
    {
     "name": "stderr",
     "output_type": "stream",
     "text": [
      "\u001b[34m\u001b[1mval: \u001b[0mScanning /home/carmel/Desktop/studia/um/um-projekt/data/labels/val.cache... 10000 images, 0 backgrounds, 0 corrupt: 100%|██████████| 10000/10000 [00:00<?, ?it/s]\n"
     ]
    },
    {
     "name": "stdout",
     "output_type": "stream",
     "text": [
      "Plotting labels to runs/detect/whole2/labels.jpg... \n",
      "\u001b[34m\u001b[1moptimizer:\u001b[0m AdamW(lr=0.01, momentum=0.9) with parameter groups 81 weight(decay=0.0), 88 weight(decay=0.0005390625), 87 bias(decay=0.0)\n",
      "Image sizes 640 train, 640 val\n",
      "Using 12 dataloader workers\n",
      "Logging results to \u001b[1mruns/detect/whole2\u001b[0m\n",
      "Starting training for 8.0 hours...\n",
      "\n",
      "      Epoch    GPU_mem   box_loss   cls_loss   dfl_loss  Instances       Size\n"
     ]
    },
    {
     "name": "stderr",
     "output_type": "stream",
     "text": [
      "      1/100      5.06G      1.271      2.049      1.401        323        640: 100%|██████████| 3044/3044 [12:06<00:00,  4.19it/s]\n",
      "                 Class     Images  Instances      Box(P          R      mAP50  mAP50-95): 100%|██████████| 218/218 [00:28<00:00,  7.56it/s]\n"
     ]
    },
    {
     "name": "stdout",
     "output_type": "stream",
     "text": [
      "                   all      10000     186033      0.442      0.309      0.322      0.166\n",
      "\n",
      "      Epoch    GPU_mem   box_loss   cls_loss   dfl_loss  Instances       Size\n"
     ]
    },
    {
     "name": "stderr",
     "output_type": "stream",
     "text": [
      "       2/39      5.07G       1.24      1.922      1.376        307        640: 100%|██████████| 3044/3044 [11:35<00:00,  4.38it/s]\n",
      "                 Class     Images  Instances      Box(P          R      mAP50  mAP50-95): 100%|██████████| 218/218 [00:28<00:00,  7.55it/s]\n"
     ]
    },
    {
     "name": "stdout",
     "output_type": "stream",
     "text": [
      "                   all      10000     186033      0.558      0.328      0.339      0.177\n",
      "\n",
      "      Epoch    GPU_mem   box_loss   cls_loss   dfl_loss  Instances       Size\n"
     ]
    },
    {
     "name": "stderr",
     "output_type": "stream",
     "text": [
      "       3/39      5.07G      1.222      1.872      1.364        288        640: 100%|██████████| 3044/3044 [11:31<00:00,  4.41it/s]\n",
      "                 Class     Images  Instances      Box(P          R      mAP50  mAP50-95): 100%|██████████| 218/218 [00:28<00:00,  7.59it/s]\n"
     ]
    },
    {
     "name": "stdout",
     "output_type": "stream",
     "text": [
      "                   all      10000     186033       0.47      0.356      0.372      0.199\n",
      "\n",
      "      Epoch    GPU_mem   box_loss   cls_loss   dfl_loss  Instances       Size\n"
     ]
    },
    {
     "name": "stderr",
     "output_type": "stream",
     "text": [
      "       4/40      5.07G      1.197      1.811      1.349        506        640: 100%|██████████| 3044/3044 [11:27<00:00,  4.43it/s]\n",
      "                 Class     Images  Instances      Box(P          R      mAP50  mAP50-95): 100%|██████████| 218/218 [00:28<00:00,  7.55it/s]\n"
     ]
    },
    {
     "name": "stdout",
     "output_type": "stream",
     "text": [
      "                   all      10000     186033      0.601      0.365      0.392       0.21\n",
      "\n",
      "      Epoch    GPU_mem   box_loss   cls_loss   dfl_loss  Instances       Size\n"
     ]
    },
    {
     "name": "stderr",
     "output_type": "stream",
     "text": [
      "       5/40      5.07G      1.178      1.765      1.337        365        640: 100%|██████████| 3044/3044 [11:28<00:00,  4.42it/s]\n",
      "                 Class     Images  Instances      Box(P          R      mAP50  mAP50-95): 100%|██████████| 218/218 [00:28<00:00,  7.58it/s]\n"
     ]
    },
    {
     "name": "stdout",
     "output_type": "stream",
     "text": [
      "                   all      10000     186033      0.516      0.377      0.406       0.22\n",
      "\n",
      "      Epoch    GPU_mem   box_loss   cls_loss   dfl_loss  Instances       Size\n"
     ]
    },
    {
     "name": "stderr",
     "output_type": "stream",
     "text": [
      "       6/40      5.07G      1.167      1.736       1.33        408        640: 100%|██████████| 3044/3044 [11:26<00:00,  4.43it/s]\n",
      "                 Class     Images  Instances      Box(P          R      mAP50  mAP50-95): 100%|██████████| 218/218 [00:28<00:00,  7.59it/s]\n"
     ]
    },
    {
     "name": "stdout",
     "output_type": "stream",
     "text": [
      "                   all      10000     186033      0.539      0.384      0.418      0.227\n",
      "\n",
      "      Epoch    GPU_mem   box_loss   cls_loss   dfl_loss  Instances       Size\n"
     ]
    },
    {
     "name": "stderr",
     "output_type": "stream",
     "text": [
      "       7/40      5.07G      1.157      1.712      1.325        387        640: 100%|██████████| 3044/3044 [11:26<00:00,  4.44it/s]\n",
      "                 Class     Images  Instances      Box(P          R      mAP50  mAP50-95): 100%|██████████| 218/218 [00:28<00:00,  7.59it/s]\n"
     ]
    },
    {
     "name": "stdout",
     "output_type": "stream",
     "text": [
      "                   all      10000     186033      0.652      0.385      0.426      0.234\n",
      "\n",
      "      Epoch    GPU_mem   box_loss   cls_loss   dfl_loss  Instances       Size\n"
     ]
    },
    {
     "name": "stderr",
     "output_type": "stream",
     "text": [
      "       8/40      5.56G       1.15      1.693      1.321        271        640: 100%|██████████| 3044/3044 [11:26<00:00,  4.44it/s]\n",
      "                 Class     Images  Instances      Box(P          R      mAP50  mAP50-95): 100%|██████████| 218/218 [00:28<00:00,  7.58it/s]\n"
     ]
    },
    {
     "name": "stdout",
     "output_type": "stream",
     "text": [
      "                   all      10000     186033      0.548       0.39      0.428      0.236\n",
      "\n",
      "      Epoch    GPU_mem   box_loss   cls_loss   dfl_loss  Instances       Size\n"
     ]
    },
    {
     "name": "stderr",
     "output_type": "stream",
     "text": [
      "       9/40      5.56G      1.144      1.679      1.317        395        640: 100%|██████████| 3044/3044 [11:28<00:00,  4.42it/s]\n",
      "                 Class     Images  Instances      Box(P          R      mAP50  mAP50-95): 100%|██████████| 218/218 [00:28<00:00,  7.54it/s]\n"
     ]
    },
    {
     "name": "stdout",
     "output_type": "stream",
     "text": [
      "                   all      10000     186033      0.553      0.394      0.434      0.239\n",
      "\n",
      "      Epoch    GPU_mem   box_loss   cls_loss   dfl_loss  Instances       Size\n"
     ]
    },
    {
     "name": "stderr",
     "output_type": "stream",
     "text": [
      "      10/40      6.06G      1.141      1.668      1.313        380        640: 100%|██████████| 3044/3044 [11:26<00:00,  4.43it/s]\n",
      "                 Class     Images  Instances      Box(P          R      mAP50  mAP50-95): 100%|██████████| 218/218 [00:28<00:00,  7.59it/s]\n"
     ]
    },
    {
     "name": "stdout",
     "output_type": "stream",
     "text": [
      "                   all      10000     186033      0.553      0.398      0.438      0.242\n",
      "\n",
      "      Epoch    GPU_mem   box_loss   cls_loss   dfl_loss  Instances       Size\n"
     ]
    },
    {
     "name": "stderr",
     "output_type": "stream",
     "text": [
      "      11/40      6.06G      1.135      1.653      1.309        362        640: 100%|██████████| 3044/3044 [11:26<00:00,  4.43it/s]\n",
      "                 Class     Images  Instances      Box(P          R      mAP50  mAP50-95): 100%|██████████| 218/218 [00:28<00:00,  7.61it/s]\n"
     ]
    },
    {
     "name": "stdout",
     "output_type": "stream",
     "text": [
      "                   all      10000     186033       0.56      0.399      0.441      0.243\n",
      "\n",
      "      Epoch    GPU_mem   box_loss   cls_loss   dfl_loss  Instances       Size\n"
     ]
    },
    {
     "name": "stderr",
     "output_type": "stream",
     "text": [
      "      12/40      6.08G      1.129      1.641      1.307        330        640: 100%|██████████| 3044/3044 [11:26<00:00,  4.44it/s]\n",
      "                 Class     Images  Instances      Box(P          R      mAP50  mAP50-95): 100%|██████████| 218/218 [00:28<00:00,  7.59it/s]\n"
     ]
    },
    {
     "name": "stdout",
     "output_type": "stream",
     "text": [
      "                   all      10000     186033      0.558        0.4      0.441      0.245\n",
      "\n",
      "      Epoch    GPU_mem   box_loss   cls_loss   dfl_loss  Instances       Size\n"
     ]
    },
    {
     "name": "stderr",
     "output_type": "stream",
     "text": [
      "      13/40      6.09G      1.126      1.634      1.305        282        640: 100%|██████████| 3044/3044 [11:26<00:00,  4.44it/s]\n",
      "                 Class     Images  Instances      Box(P          R      mAP50  mAP50-95): 100%|██████████| 218/218 [00:28<00:00,  7.60it/s]\n"
     ]
    },
    {
     "name": "stdout",
     "output_type": "stream",
     "text": [
      "                   all      10000     186033       0.56      0.401      0.445      0.247\n",
      "\n",
      "      Epoch    GPU_mem   box_loss   cls_loss   dfl_loss  Instances       Size\n"
     ]
    },
    {
     "name": "stderr",
     "output_type": "stream",
     "text": [
      "      14/40      6.09G      1.124      1.624      1.304        212        640: 100%|██████████| 3044/3044 [11:26<00:00,  4.44it/s]\n",
      "                 Class     Images  Instances      Box(P          R      mAP50  mAP50-95): 100%|██████████| 218/218 [00:29<00:00,  7.50it/s]\n"
     ]
    },
    {
     "name": "stdout",
     "output_type": "stream",
     "text": [
      "                   all      10000     186033      0.563      0.405      0.447      0.249\n",
      "\n",
      "      Epoch    GPU_mem   box_loss   cls_loss   dfl_loss  Instances       Size\n"
     ]
    },
    {
     "name": "stderr",
     "output_type": "stream",
     "text": [
      "      15/41      6.09G      1.118      1.614      1.302        408        640: 100%|██████████| 3044/3044 [11:27<00:00,  4.43it/s]\n",
      "                 Class     Images  Instances      Box(P          R      mAP50  mAP50-95): 100%|██████████| 218/218 [00:28<00:00,  7.61it/s]\n"
     ]
    },
    {
     "name": "stdout",
     "output_type": "stream",
     "text": [
      "                   all      10000     186033      0.566      0.404      0.449      0.249\n",
      "\n",
      "      Epoch    GPU_mem   box_loss   cls_loss   dfl_loss  Instances       Size\n"
     ]
    },
    {
     "name": "stderr",
     "output_type": "stream",
     "text": [
      "      16/41      6.09G      1.117      1.609        1.3        326        640: 100%|██████████| 3044/3044 [11:25<00:00,  4.44it/s]\n",
      "                 Class     Images  Instances      Box(P          R      mAP50  mAP50-95): 100%|██████████| 218/218 [00:28<00:00,  7.57it/s]\n"
     ]
    },
    {
     "name": "stdout",
     "output_type": "stream",
     "text": [
      "                   all      10000     186033      0.567      0.405       0.45       0.25\n",
      "\n",
      "      Epoch    GPU_mem   box_loss   cls_loss   dfl_loss  Instances       Size\n"
     ]
    },
    {
     "name": "stderr",
     "output_type": "stream",
     "text": [
      "      17/41      6.09G      1.114      1.602      1.298        354        640: 100%|██████████| 3044/3044 [11:26<00:00,  4.44it/s]\n",
      "                 Class     Images  Instances      Box(P          R      mAP50  mAP50-95): 100%|██████████| 218/218 [00:28<00:00,  7.61it/s]\n"
     ]
    },
    {
     "name": "stdout",
     "output_type": "stream",
     "text": [
      "                   all      10000     186033      0.568      0.405      0.451      0.251\n",
      "\n",
      "      Epoch    GPU_mem   box_loss   cls_loss   dfl_loss  Instances       Size\n"
     ]
    },
    {
     "name": "stderr",
     "output_type": "stream",
     "text": [
      "      18/41      6.09G      1.112      1.596      1.297        385        640: 100%|██████████| 3044/3044 [11:26<00:00,  4.44it/s]\n",
      "                 Class     Images  Instances      Box(P          R      mAP50  mAP50-95): 100%|██████████| 218/218 [00:28<00:00,  7.59it/s]\n"
     ]
    },
    {
     "name": "stdout",
     "output_type": "stream",
     "text": [
      "                   all      10000     186033      0.568      0.406      0.452      0.252\n",
      "\n",
      "      Epoch    GPU_mem   box_loss   cls_loss   dfl_loss  Instances       Size\n"
     ]
    },
    {
     "name": "stderr",
     "output_type": "stream",
     "text": [
      "      19/41      6.09G      1.107      1.586      1.295        507        640: 100%|██████████| 3044/3044 [11:26<00:00,  4.44it/s]\n",
      "                 Class     Images  Instances      Box(P          R      mAP50  mAP50-95): 100%|██████████| 218/218 [00:28<00:00,  7.59it/s]\n"
     ]
    },
    {
     "name": "stdout",
     "output_type": "stream",
     "text": [
      "                   all      10000     186033       0.57      0.407      0.453      0.252\n",
      "\n",
      "      Epoch    GPU_mem   box_loss   cls_loss   dfl_loss  Instances       Size\n"
     ]
    },
    {
     "name": "stderr",
     "output_type": "stream",
     "text": [
      "      20/41      6.09G      1.106      1.581      1.293        238        640: 100%|██████████| 3044/3044 [11:26<00:00,  4.43it/s]\n",
      "                 Class     Images  Instances      Box(P          R      mAP50  mAP50-95): 100%|██████████| 218/218 [00:28<00:00,  7.58it/s]\n"
     ]
    },
    {
     "name": "stdout",
     "output_type": "stream",
     "text": [
      "                   all      10000     186033      0.571      0.406      0.454      0.253\n",
      "\n",
      "      Epoch    GPU_mem   box_loss   cls_loss   dfl_loss  Instances       Size\n"
     ]
    },
    {
     "name": "stderr",
     "output_type": "stream",
     "text": [
      "      21/41      6.09G      1.101      1.575      1.292        380        640: 100%|██████████| 3044/3044 [11:26<00:00,  4.43it/s]\n",
      "                 Class     Images  Instances      Box(P          R      mAP50  mAP50-95): 100%|██████████| 218/218 [00:28<00:00,  7.59it/s]\n"
     ]
    },
    {
     "name": "stdout",
     "output_type": "stream",
     "text": [
      "                   all      10000     186033      0.575      0.407      0.455      0.254\n",
      "\n",
      "      Epoch    GPU_mem   box_loss   cls_loss   dfl_loss  Instances       Size\n"
     ]
    },
    {
     "name": "stderr",
     "output_type": "stream",
     "text": [
      "      22/41      6.09G      1.101      1.568      1.291        384        640: 100%|██████████| 3044/3044 [11:25<00:00,  4.44it/s]\n",
      "                 Class     Images  Instances      Box(P          R      mAP50  mAP50-95): 100%|██████████| 218/218 [00:28<00:00,  7.61it/s]\n"
     ]
    },
    {
     "name": "stdout",
     "output_type": "stream",
     "text": [
      "                   all      10000     186033      0.575      0.406      0.456      0.254\n",
      "\n",
      "      Epoch    GPU_mem   box_loss   cls_loss   dfl_loss  Instances       Size\n"
     ]
    },
    {
     "name": "stderr",
     "output_type": "stream",
     "text": [
      "      23/41      6.09G      1.099      1.562       1.29        393        640: 100%|██████████| 3044/3044 [11:25<00:00,  4.44it/s]\n",
      "                 Class     Images  Instances      Box(P          R      mAP50  mAP50-95): 100%|██████████| 218/218 [00:28<00:00,  7.60it/s]\n"
     ]
    },
    {
     "name": "stdout",
     "output_type": "stream",
     "text": [
      "                   all      10000     186033      0.577      0.406      0.457      0.255\n",
      "\n",
      "      Epoch    GPU_mem   box_loss   cls_loss   dfl_loss  Instances       Size\n"
     ]
    },
    {
     "name": "stderr",
     "output_type": "stream",
     "text": [
      "      24/41      6.09G      1.096      1.557      1.289        334        640: 100%|██████████| 3044/3044 [11:26<00:00,  4.44it/s]\n",
      "                 Class     Images  Instances      Box(P          R      mAP50  mAP50-95): 100%|██████████| 218/218 [00:28<00:00,  7.60it/s]\n"
     ]
    },
    {
     "name": "stdout",
     "output_type": "stream",
     "text": [
      "                   all      10000     186033      0.575      0.409      0.458      0.256\n",
      "\n",
      "      Epoch    GPU_mem   box_loss   cls_loss   dfl_loss  Instances       Size\n"
     ]
    },
    {
     "name": "stderr",
     "output_type": "stream",
     "text": [
      "      25/41      6.09G      1.094      1.551      1.288        383        640: 100%|██████████| 3044/3044 [11:25<00:00,  4.44it/s]\n",
      "                 Class     Images  Instances      Box(P          R      mAP50  mAP50-95): 100%|██████████| 218/218 [00:28<00:00,  7.60it/s]\n"
     ]
    },
    {
     "name": "stdout",
     "output_type": "stream",
     "text": [
      "                   all      10000     186033      0.579      0.408       0.46      0.257\n",
      "\n",
      "      Epoch    GPU_mem   box_loss   cls_loss   dfl_loss  Instances       Size\n"
     ]
    },
    {
     "name": "stderr",
     "output_type": "stream",
     "text": [
      "      26/41      6.09G      1.094      1.549      1.287        438        640: 100%|██████████| 3044/3044 [11:25<00:00,  4.44it/s]\n",
      "                 Class     Images  Instances      Box(P          R      mAP50  mAP50-95): 100%|██████████| 218/218 [00:28<00:00,  7.59it/s]\n"
     ]
    },
    {
     "name": "stdout",
     "output_type": "stream",
     "text": [
      "                   all      10000     186033      0.582      0.408      0.461      0.257\n",
      "\n",
      "      Epoch    GPU_mem   box_loss   cls_loss   dfl_loss  Instances       Size\n"
     ]
    },
    {
     "name": "stderr",
     "output_type": "stream",
     "text": [
      "      27/41      6.09G       1.09      1.541      1.285        242        640: 100%|██████████| 3044/3044 [11:25<00:00,  4.44it/s]\n",
      "                 Class     Images  Instances      Box(P          R      mAP50  mAP50-95): 100%|██████████| 218/218 [00:29<00:00,  7.50it/s]\n"
     ]
    },
    {
     "name": "stdout",
     "output_type": "stream",
     "text": [
      "                   all      10000     186033      0.577      0.411      0.462      0.258\n",
      "\n",
      "      Epoch    GPU_mem   box_loss   cls_loss   dfl_loss  Instances       Size\n"
     ]
    },
    {
     "name": "stderr",
     "output_type": "stream",
     "text": [
      "      28/41      6.09G      1.087      1.534      1.284        406        640: 100%|██████████| 3044/3044 [11:26<00:00,  4.43it/s]\n",
      "                 Class     Images  Instances      Box(P          R      mAP50  mAP50-95): 100%|██████████| 218/218 [00:28<00:00,  7.61it/s]\n"
     ]
    },
    {
     "name": "stdout",
     "output_type": "stream",
     "text": [
      "                   all      10000     186033      0.581      0.411      0.462      0.258\n",
      "\n",
      "      Epoch    GPU_mem   box_loss   cls_loss   dfl_loss  Instances       Size\n"
     ]
    },
    {
     "name": "stderr",
     "output_type": "stream",
     "text": [
      "      29/41      6.09G      1.087      1.531      1.283        364        640: 100%|██████████| 3044/3044 [11:26<00:00,  4.44it/s]\n",
      "                 Class     Images  Instances      Box(P          R      mAP50  mAP50-95): 100%|██████████| 218/218 [00:28<00:00,  7.59it/s]\n"
     ]
    },
    {
     "name": "stdout",
     "output_type": "stream",
     "text": [
      "                   all      10000     186033      0.583      0.412      0.464      0.259\n",
      "\n",
      "      Epoch    GPU_mem   box_loss   cls_loss   dfl_loss  Instances       Size\n"
     ]
    },
    {
     "name": "stderr",
     "output_type": "stream",
     "text": [
      "      30/41      6.09G      1.084      1.524      1.282        431        640: 100%|██████████| 3044/3044 [11:25<00:00,  4.44it/s]\n",
      "                 Class     Images  Instances      Box(P          R      mAP50  mAP50-95): 100%|██████████| 218/218 [00:29<00:00,  7.50it/s]\n"
     ]
    },
    {
     "name": "stdout",
     "output_type": "stream",
     "text": [
      "                   all      10000     186033      0.584      0.413      0.464       0.26\n",
      "\n",
      "      Epoch    GPU_mem   box_loss   cls_loss   dfl_loss  Instances       Size\n"
     ]
    },
    {
     "name": "stderr",
     "output_type": "stream",
     "text": [
      "      31/41      6.09G      1.081      1.518       1.28        295        640: 100%|██████████| 3044/3044 [11:25<00:00,  4.44it/s]\n",
      "                 Class     Images  Instances      Box(P          R      mAP50  mAP50-95): 100%|██████████| 218/218 [00:28<00:00,  7.61it/s]\n"
     ]
    },
    {
     "name": "stdout",
     "output_type": "stream",
     "text": [
      "                   all      10000     186033      0.583      0.415      0.465       0.26\n",
      "\n",
      "      Epoch    GPU_mem   box_loss   cls_loss   dfl_loss  Instances       Size\n"
     ]
    },
    {
     "name": "stderr",
     "output_type": "stream",
     "text": [
      "      32/41      6.09G      1.082      1.516       1.28        329        640: 100%|██████████| 3044/3044 [11:25<00:00,  4.44it/s]\n",
      "                 Class     Images  Instances      Box(P          R      mAP50  mAP50-95): 100%|██████████| 218/218 [00:28<00:00,  7.58it/s]\n"
     ]
    },
    {
     "name": "stdout",
     "output_type": "stream",
     "text": [
      "                   all      10000     186033      0.583      0.417      0.466      0.261\n",
      "\n",
      "      Epoch    GPU_mem   box_loss   cls_loss   dfl_loss  Instances       Size\n"
     ]
    },
    {
     "name": "stderr",
     "output_type": "stream",
     "text": [
      "      33/41      6.09G      1.079      1.511      1.279        324        640: 100%|██████████| 3044/3044 [11:26<00:00,  4.44it/s]\n",
      "                 Class     Images  Instances      Box(P          R      mAP50  mAP50-95): 100%|██████████| 218/218 [00:28<00:00,  7.59it/s]\n"
     ]
    },
    {
     "name": "stdout",
     "output_type": "stream",
     "text": [
      "                   all      10000     186033       0.58      0.417      0.466      0.261\n",
      "\n",
      "      Epoch    GPU_mem   box_loss   cls_loss   dfl_loss  Instances       Size\n"
     ]
    },
    {
     "name": "stderr",
     "output_type": "stream",
     "text": [
      "      34/41      6.09G      1.077      1.506      1.278        541        640: 100%|██████████| 3044/3044 [11:25<00:00,  4.44it/s]\n",
      "                 Class     Images  Instances      Box(P          R      mAP50  mAP50-95): 100%|██████████| 218/218 [00:28<00:00,  7.61it/s]\n"
     ]
    },
    {
     "name": "stdout",
     "output_type": "stream",
     "text": [
      "                   all      10000     186033      0.587      0.416      0.467      0.262\n",
      "\n",
      "      Epoch    GPU_mem   box_loss   cls_loss   dfl_loss  Instances       Size\n"
     ]
    },
    {
     "name": "stderr",
     "output_type": "stream",
     "text": [
      "      35/41      6.09G      1.074      1.502      1.277        468        640: 100%|██████████| 3044/3044 [11:26<00:00,  4.44it/s]\n",
      "                 Class     Images  Instances      Box(P          R      mAP50  mAP50-95): 100%|██████████| 218/218 [00:28<00:00,  7.59it/s]\n"
     ]
    },
    {
     "name": "stdout",
     "output_type": "stream",
     "text": [
      "                   all      10000     186033      0.584      0.419      0.469      0.262\n",
      "\n",
      "      Epoch    GPU_mem   box_loss   cls_loss   dfl_loss  Instances       Size\n"
     ]
    },
    {
     "name": "stderr",
     "output_type": "stream",
     "text": [
      "      36/41      6.09G      1.074      1.498      1.276        332        640: 100%|██████████| 3044/3044 [11:26<00:00,  4.44it/s]\n",
      "                 Class     Images  Instances      Box(P          R      mAP50  mAP50-95): 100%|██████████| 218/218 [00:28<00:00,  7.62it/s]\n"
     ]
    },
    {
     "name": "stdout",
     "output_type": "stream",
     "text": [
      "                   all      10000     186033      0.686      0.418      0.469      0.263\n",
      "\n",
      "      Epoch    GPU_mem   box_loss   cls_loss   dfl_loss  Instances       Size\n"
     ]
    },
    {
     "name": "stderr",
     "output_type": "stream",
     "text": [
      "      37/41      6.09G       1.07      1.489      1.275        349        640: 100%|██████████| 3044/3044 [11:26<00:00,  4.44it/s]\n",
      "                 Class     Images  Instances      Box(P          R      mAP50  mAP50-95): 100%|██████████| 218/218 [00:28<00:00,  7.60it/s]\n"
     ]
    },
    {
     "name": "stdout",
     "output_type": "stream",
     "text": [
      "                   all      10000     186033      0.687      0.419      0.471      0.263\n",
      "\n",
      "      Epoch    GPU_mem   box_loss   cls_loss   dfl_loss  Instances       Size\n"
     ]
    },
    {
     "name": "stderr",
     "output_type": "stream",
     "text": [
      "      38/41      6.09G      1.069      1.486      1.275        307        640: 100%|██████████| 3044/3044 [11:25<00:00,  4.44it/s]\n",
      "                 Class     Images  Instances      Box(P          R      mAP50  mAP50-95): 100%|██████████| 218/218 [00:28<00:00,  7.60it/s]\n"
     ]
    },
    {
     "name": "stdout",
     "output_type": "stream",
     "text": [
      "                   all      10000     186033      0.687       0.42      0.471      0.264\n",
      "\n",
      "      Epoch    GPU_mem   box_loss   cls_loss   dfl_loss  Instances       Size\n"
     ]
    },
    {
     "name": "stderr",
     "output_type": "stream",
     "text": [
      "      39/41      6.09G      1.069      1.486      1.274        301        640: 100%|██████████| 3044/3044 [11:25<00:00,  4.44it/s]\n",
      "                 Class     Images  Instances      Box(P          R      mAP50  mAP50-95): 100%|██████████| 218/218 [00:28<00:00,  7.59it/s]\n"
     ]
    },
    {
     "name": "stdout",
     "output_type": "stream",
     "text": [
      "                   all      10000     186033      0.684      0.423      0.473      0.264\n",
      "\n",
      "      Epoch    GPU_mem   box_loss   cls_loss   dfl_loss  Instances       Size\n"
     ]
    },
    {
     "name": "stderr",
     "output_type": "stream",
     "text": [
      "      40/41      6.09G      1.066      1.478      1.272        287        640: 100%|██████████| 3044/3044 [11:25<00:00,  4.44it/s]\n",
      "                 Class     Images  Instances      Box(P          R      mAP50  mAP50-95): 100%|██████████| 218/218 [00:28<00:00,  7.60it/s]\n"
     ]
    },
    {
     "name": "stdout",
     "output_type": "stream",
     "text": [
      "                   all      10000     186033      0.683      0.424      0.474      0.265\n",
      "\n",
      "      Epoch    GPU_mem   box_loss   cls_loss   dfl_loss  Instances       Size\n"
     ]
    },
    {
     "name": "stderr",
     "output_type": "stream",
     "text": [
      "      41/41      6.09G      1.065      1.473      1.272        721        640:  17%|█▋        | 529/3044 [01:59<09:27,  4.43it/s]\n",
      "                 Class     Images  Instances      Box(P          R      mAP50  mAP50-95): 100%|██████████| 218/218 [00:28<00:00,  7.62it/s]\n"
     ]
    },
    {
     "name": "stdout",
     "output_type": "stream",
     "text": [
      "                   all      10000     186033      0.681      0.425      0.473      0.265\n",
      "\n",
      "41 epochs completed in 8.008 hours.\n",
      "Optimizer stripped from runs/detect/whole2/weights/last.pt, 5.5MB\n",
      "Optimizer stripped from runs/detect/whole2/weights/best.pt, 5.5MB\n",
      "\n",
      "Validating runs/detect/whole2/weights/best.pt...\n",
      "Ultralytics 8.3.152 🚀 Python-3.13.3 torch-2.7.1+rocm6.3 CUDA:0 (AMD Radeon RX 7800 XT, 16368MiB)\n",
      "YOLO11n summary (fused): 100 layers, 2,584,102 parameters, 0 gradients, 6.3 GFLOPs\n"
     ]
    },
    {
     "name": "stderr",
     "output_type": "stream",
     "text": [
      "                 Class     Images  Instances      Box(P          R      mAP50  mAP50-95): 100%|██████████| 218/218 [00:30<00:00,  7.06it/s]\n"
     ]
    },
    {
     "name": "stdout",
     "output_type": "stream",
     "text": [
      "                   all      10000     186033      0.684      0.423      0.474      0.265\n",
      "            pedestrian       3261      13426      0.667      0.497      0.565      0.266\n",
      "               bicycle        592       1039       0.61      0.321      0.366      0.166\n",
      "                   car       9882     102922      0.772      0.704      0.773      0.499\n",
      "            motorcycle        346        460      0.637      0.283      0.373      0.174\n",
      "                 rider        527        658      0.616      0.331      0.381      0.174\n",
      "                   bus       1299       1660       0.58      0.504      0.552      0.429\n",
      "                 train         14         15          1          0          0          0\n",
      "                 truck       2734       4245      0.637       0.53      0.577      0.421\n",
      "          traffic sign       8211      34724       0.66      0.538      0.587       0.31\n",
      "         traffic light       5651      26884      0.662      0.522      0.563      0.209\n",
      "Speed: 0.1ms preprocess, 0.8ms inference, 0.0ms loss, 0.6ms postprocess per image\n",
      "Results saved to \u001b[1mruns/detect/whole2\u001b[0m\n"
     ]
    }
   ],
   "source": [
    "model = YOLO(\"model/yolo11n.pt\")\n",
    "results = model.train(data=\"bdd100k.yaml\", name=\"whole2\", time=8., patience=40, save_period=1, cache=False, workers=12, \n",
    "                      imgsz=640, device=0, batch=23, plots=True, dropout=0.2, cls=1., dfl=2., box=6.5, pretrained=True,\n",
    "                      seed=42, optimizer='AdamW', lr0=0.01, lrf=0.01, momentum=0.9, weight_decay=0.0005, warmup_epochs=3,\n",
    "                      warmup_momentum=0.8, warmup_bias_lr=0.1, close_mosaic=0, freeze=None, resume=False, amp=True, exist_ok=False,\n",
    "                      conf=0.01, iou=0.5, max_det=100, half=True)"
   ]
  },
  {
   "cell_type": "code",
   "execution_count": 9,
   "id": "c82017aa",
   "metadata": {},
   "outputs": [
    {
     "name": "stdout",
     "output_type": "stream",
     "text": [
      "Ultralytics 8.3.152 🚀 Python-3.13.3 torch-2.7.1+rocm6.3 CUDA:0 (AMD Radeon RX 7800 XT, 16368MiB)\n",
      "YOLO11n summary (fused): 100 layers, 2,584,102 parameters, 0 gradients, 6.3 GFLOPs\n",
      "\u001b[34m\u001b[1mval: \u001b[0mFast image access ✅ (ping: 0.0±0.0 ms, read: 2581.8±601.1 MB/s, size: 41.5 KB)\n"
     ]
    },
    {
     "name": "stderr",
     "output_type": "stream",
     "text": [
      "\u001b[34m\u001b[1mval: \u001b[0mScanning /home/carmel/Desktop/studia/um/um-projekt/data/labels/val.cache... 10000 images, 0 backgrounds, 0 corrupt: 100%|██████████| 10000/10000 [00:00<?, ?it/s]\n",
      "                 Class     Images  Instances      Box(P          R      mAP50  mAP50-95): 100%|██████████| 435/435 [00:29<00:00, 14.64it/s]\n"
     ]
    },
    {
     "name": "stdout",
     "output_type": "stream",
     "text": [
      "                   all      10000     186033       0.68      0.425      0.474      0.265\n",
      "            pedestrian       3261      13426      0.661      0.499      0.565      0.265\n",
      "               bicycle        592       1039      0.601      0.323      0.365      0.165\n",
      "                   car       9882     102922      0.769      0.705      0.773      0.499\n",
      "            motorcycle        346        460      0.641      0.285      0.374      0.175\n",
      "                 rider        527        658      0.613      0.335       0.38      0.174\n",
      "                   bus       1299       1660       0.57      0.508      0.552      0.429\n",
      "                 train         14         15          1          0          0          0\n",
      "                 truck       2734       4245      0.633      0.532      0.577      0.421\n",
      "          traffic sign       8211      34724      0.657       0.54      0.587       0.31\n",
      "         traffic light       5651      26884      0.659      0.524      0.563      0.209\n",
      "Speed: 0.0ms preprocess, 0.6ms inference, 0.0ms loss, 0.4ms postprocess per image\n",
      "Saving runs/detect/whole2-val-last/predictions.json...\n",
      "Results saved to \u001b[1mruns/detect/whole2-val-last\u001b[0m\n"
     ]
    }
   ],
   "source": [
    "taught_model = YOLO(\"runs/detect/whole2/weights/last.pt\")\n",
    "results = taught_model.val(data=\"bdd100k.yaml\", model='runs/detect/whole2/weights/last.pt', name=\"whole2-val-last\", workers=12, \n",
    "                      imgsz=640, device=0, batch=23, plots=True, resume=True, exist_ok=True,\n",
    "                      conf=0.01, iou=0.5, max_det=100, half=True, save_json=True)"
   ]
  },
  {
   "cell_type": "code",
   "execution_count": null,
   "id": "55699a61",
   "metadata": {},
   "outputs": [
    {
     "name": "stdout",
     "output_type": "stream",
     "text": [
      "Ultralytics 8.3.152 🚀 Python-3.13.3 torch-2.7.1+rocm6.3 CUDA:0 (AMD Radeon RX 7800 XT, 16368MiB)\n",
      "YOLO11n summary (fused): 100 layers, 2,584,102 parameters, 0 gradients, 6.3 GFLOPs\n",
      "\u001b[34m\u001b[1mval: \u001b[0mFast image access ✅ (ping: 0.0±0.0 ms, read: 137.9±36.3 MB/s, size: 55.7 KB)\n"
     ]
    },
    {
     "name": "stderr",
     "output_type": "stream",
     "text": [
      "\u001b[34m\u001b[1mval: \u001b[0mScanning /home/carmel/Desktop/studia/um/um-projekt/data/labels/val.cache... 10000 images, 0 backgrounds, 0 corrupt: 100%|██████████| 10000/10000 [00:00<?, ?it/s]\n",
      "                 Class     Images  Instances      Box(P          R      mAP50  mAP50-95): 100%|██████████| 435/435 [00:30<00:00, 14.23it/s]\n"
     ]
    },
    {
     "name": "stdout",
     "output_type": "stream",
     "text": [
      "                   all      10000     186033      0.443       0.31      0.323      0.166\n",
      "            pedestrian       3261      13426      0.461      0.443      0.423      0.177\n",
      "               bicycle        592       1039      0.374      0.174      0.177     0.0687\n",
      "                   car       9882     102922      0.688      0.644      0.696      0.421\n",
      "            motorcycle        346        460      0.348      0.148      0.145     0.0594\n",
      "                 rider        527        658      0.387      0.198      0.193     0.0733\n",
      "                   bus       1299       1660      0.621      0.258       0.34      0.241\n",
      "                 train         14         15          0          0          0          0\n",
      "                 truck       2734       4245      0.458      0.381      0.377      0.261\n",
      "          traffic sign       8211      34724      0.527      0.451      0.451      0.219\n",
      "         traffic light       5651      26884      0.562      0.404      0.423      0.141\n",
      "Speed: 0.0ms preprocess, 0.6ms inference, 0.0ms loss, 0.4ms postprocess per image\n",
      "Saving runs/detect/whole2-val-epoch0/predictions.json...\n",
      "Results saved to \u001b[1mruns/detect/whole2-val-epoch0\u001b[0m\n"
     ]
    }
   ],
   "source": [
    "taught_model = YOLO(\"runs/detect/whole2/weights/epoch0.pt\")\n",
    "results = taught_model.val(data=\"bdd100k.yaml\", model='runs/detect/whole2/weights/epoch0.pt', name=\"whole2-val-epoch0\", workers=12, \n",
    "                      imgsz=640, device=0, batch=23, plots=True, resume=True, exist_ok=True,\n",
    "                      conf=0.01, iou=0.5, max_det=100, half=True, save_json=True)"
   ]
  },
  {
   "cell_type": "code",
   "execution_count": null,
   "id": "036d3a78",
   "metadata": {},
   "outputs": [
    {
     "name": "stdout",
     "output_type": "stream",
     "text": [
      "Ultralytics 8.3.152 🚀 Python-3.13.3 torch-2.7.1+rocm6.3 CUDA:0 (AMD Radeon RX 7800 XT, 16368MiB)\n",
      "YOLO11n summary (fused): 100 layers, 2,584,102 parameters, 0 gradients, 6.3 GFLOPs\n",
      "\u001b[34m\u001b[1mval: \u001b[0mFast image access ✅ (ping: 0.0±0.0 ms, read: 126.9±66.3 MB/s, size: 58.2 KB)\n"
     ]
    },
    {
     "name": "stderr",
     "output_type": "stream",
     "text": [
      "\u001b[34m\u001b[1mval: \u001b[0mScanning /home/carmel/Desktop/studia/um/um-projekt/data/labels/val.cache... 10000 images, 0 backgrounds, 0 corrupt: 100%|██████████| 10000/10000 [00:00<?, ?it/s]\n",
      "                 Class     Images  Instances      Box(P          R      mAP50  mAP50-95): 100%|██████████| 435/435 [00:27<00:00, 16.05it/s]\n"
     ]
    },
    {
     "name": "stdout",
     "output_type": "stream",
     "text": [
      "                   all      10000     186033      0.432      0.214      0.253      0.146\n",
      "            pedestrian       3261      13426      0.679      0.309      0.412      0.204\n",
      "               bicycle        592       1039      0.438      0.209      0.225     0.0964\n",
      "                   car       9882     102922      0.777        0.4      0.549      0.349\n",
      "            motorcycle        346        460       0.19      0.222      0.144     0.0651\n",
      "                 rider        527        658      0.251      0.223      0.201      0.104\n",
      "                   bus       1299       1660       0.44      0.324      0.335      0.263\n",
      "                 train         14         15          0          0          0          0\n",
      "                 truck       2734       4245      0.338      0.318      0.286      0.207\n",
      "          traffic sign       8211      34724      0.605     0.0813      0.212      0.116\n",
      "         traffic light       5651      26884      0.602     0.0502       0.17     0.0584\n",
      "Speed: 0.0ms preprocess, 0.6ms inference, 0.0ms loss, 0.4ms postprocess per image\n",
      "Saving runs/detect/ex3-val-epoch0/predictions.json...\n",
      "Results saved to \u001b[1mruns/detect/ex3-val-epoch0\u001b[0m\n"
     ]
    }
   ],
   "source": [
    "taught_model = YOLO(\"runs/detect/ex3/weights/epoch0.pt\")\n",
    "results = taught_model.val(data=\"bdd100k.yaml\", model='runs/detect/ex3/weights/epoch0.pt', name=\"ex3-val-epoch0\", workers=12, \n",
    "                      imgsz=640, device=0, batch=23, plots=True, resume=True, exist_ok=True,\n",
    "                      conf=0.01, iou=0.5, max_det=100, half=True, save_json=True)"
   ]
  },
  {
   "cell_type": "code",
   "execution_count": null,
   "id": "e1c1b326",
   "metadata": {},
   "outputs": [
    {
     "name": "stdout",
     "output_type": "stream",
     "text": [
      "Ultralytics 8.3.152 🚀 Python-3.13.3 torch-2.7.1+rocm6.3 CUDA:0 (AMD Radeon RX 7800 XT, 16368MiB)\n",
      "YOLO11n summary (fused): 100 layers, 2,584,102 parameters, 0 gradients, 6.3 GFLOPs\n",
      "\u001b[34m\u001b[1mval: \u001b[0mFast image access ✅ (ping: 0.0±0.0 ms, read: 159.5±81.1 MB/s, size: 56.8 KB)\n"
     ]
    },
    {
     "name": "stderr",
     "output_type": "stream",
     "text": [
      "\u001b[34m\u001b[1mval: \u001b[0mScanning /home/carmel/Desktop/studia/um/um-projekt/data/labels/val.cache... 10000 images, 0 backgrounds, 0 corrupt: 100%|██████████| 10000/10000 [00:00<?, ?it/s]\n",
      "                 Class     Images  Instances      Box(P          R      mAP50  mAP50-95): 100%|██████████| 435/435 [00:30<00:00, 14.17it/s]\n"
     ]
    },
    {
     "name": "stdout",
     "output_type": "stream",
     "text": [
      "                   all      10000     186033      0.548      0.276      0.297      0.161\n",
      "            pedestrian       3261      13426      0.585      0.389      0.437      0.209\n",
      "               bicycle        592       1039      0.563      0.201       0.25      0.113\n",
      "                   car       9882     102922      0.664      0.543       0.61      0.361\n",
      "            motorcycle        346        460      0.405      0.178      0.183     0.0766\n",
      "                 rider        527        658      0.373      0.236      0.238      0.119\n",
      "                   bus       1299       1660      0.432      0.378      0.366      0.277\n",
      "                 train         14         15          1          0          0          0\n",
      "                 truck       2734       4245      0.425      0.365      0.342       0.23\n",
      "          traffic sign       8211      34724      0.433       0.28      0.278      0.136\n",
      "         traffic light       5651      26884      0.596      0.193      0.272     0.0909\n",
      "Speed: 0.0ms preprocess, 0.6ms inference, 0.0ms loss, 0.4ms postprocess per image\n",
      "Saving runs/detect/ex3-val-last/predictions.json...\n",
      "Results saved to \u001b[1mruns/detect/ex3-val-last\u001b[0m\n"
     ]
    }
   ],
   "source": [
    "taught_model = YOLO(\"runs/detect/ex3/weights/last.pt\")\n",
    "results = taught_model.val(data=\"bdd100k.yaml\", model='runs/detect/ex3/weights/last.pt', name=\"ex3-val-last\", workers=12, \n",
    "                      imgsz=640, device=0, batch=23, plots=True, resume=True, exist_ok=True,\n",
    "                      conf=0.01, iou=0.5, max_det=100, half=True, save_json=True)"
   ]
  },
  {
   "cell_type": "code",
   "execution_count": 8,
   "id": "276fb640",
   "metadata": {
    "ExecuteTime": {
     "end_time": "2025-06-10T21:27:19.665805Z",
     "start_time": "2025-06-10T21:27:18.869142Z"
    }
   },
   "outputs": [
    {
     "name": "stdout",
     "output_type": "stream",
     "text": [
      "\n",
      "image 1/20000 /home/carmel/Desktop/studia/um/um-projekt/data/images/test/cabc30fc-e7726578.jpg: 384x640 1 pedestrian, 3 cars, 3 traffic signs, 37.7ms\n"
     ]
    }
   ],
   "source": [
    "taught_model = YOLO(\"runs/detect/whole2/weights/last.pt\")\n",
    "after_training_results = taught_model.predict('data/images/test', stream=True)\n",
    "\n",
    "for r in after_training_results:\n",
    "    r.show()\n",
    "    break\n",
    "\n",
    "after_training_results=None"
   ]
  }
 ],
 "metadata": {
  "kernelspec": {
   "display_name": "Python 3",
   "language": "python",
   "name": "python3"
  },
  "language_info": {
   "codemirror_mode": {
    "name": "ipython",
    "version": 3
   },
   "file_extension": ".py",
   "mimetype": "text/x-python",
   "name": "python",
   "nbconvert_exporter": "python",
   "pygments_lexer": "ipython3",
   "version": "3.13.3"
  }
 },
 "nbformat": 4,
 "nbformat_minor": 5
}
