{
 "cells": [
  {
   "cell_type": "code",
   "id": "5398bf90",
   "metadata": {
    "ExecuteTime": {
     "end_time": "2025-06-10T21:02:00.548040Z",
     "start_time": "2025-06-10T21:01:59.685085Z"
    }
   },
   "source": [
    "from ultralytics import YOLO"
   ],
   "outputs": [],
   "execution_count": 2
  },
  {
   "cell_type": "code",
   "id": "1bd60541",
   "metadata": {
    "ExecuteTime": {
     "end_time": "2025-06-10T21:02:01.918306Z",
     "start_time": "2025-06-10T21:02:01.460514Z"
    }
   },
   "source": "model = YOLO(\"model/yolo11n.pt\")",
   "outputs": [],
   "execution_count": 3
  },
  {
   "cell_type": "code",
   "id": "2a70e681",
   "metadata": {
    "ExecuteTime": {
     "end_time": "2025-06-10T21:02:07.476726Z",
     "start_time": "2025-06-10T21:02:04.295035Z"
    }
   },
   "source": [
    "before_training_results = model.predict('data/images/test', stream=True)\n",
    "\n",
    "for r in before_training_results:\n",
    "    r.show()\n",
    "    break\n",
    "\n",
    "before_training_results=None"
   ],
   "outputs": [
    {
     "name": "stdout",
     "output_type": "stream",
     "text": [
      "\n",
      "image 1/20000 C:\\Users\\Adam\\PycharmProjects\\um-projekt\\data\\images\\test\\cabc30fc-e7726578.jpg: 384x640 1 person, 4 cars, 65.3ms\n"
     ]
    }
   ],
   "execution_count": 4
  },
  {
   "metadata": {
    "ExecuteTime": {
     "end_time": "2025-06-10T21:02:12.007571Z",
     "start_time": "2025-06-10T21:02:11.989255Z"
    }
   },
   "cell_type": "code",
   "source": [
    "import torch\n",
    "print(torch.__version__)\n",
    "print(torch.version.cuda)\n",
    "print(torch.cuda.is_available())"
   ],
   "id": "de9083b4a57960b0",
   "outputs": [
    {
     "name": "stdout",
     "output_type": "stream",
     "text": [
      "2.5.1\n",
      "12.1\n",
      "True\n"
     ]
    }
   ],
   "execution_count": 5
  },
  {
   "cell_type": "code",
   "id": "7495fdaa",
   "metadata": {
    "ExecuteTime": {
     "end_time": "2025-06-10T21:27:04.739177Z",
     "start_time": "2025-06-10T21:02:13.806760Z"
    }
   },
   "source": [
    "results = model.train(data=\"bdd100k.yaml\", epochs=1, imgsz=640, device=0, batch=0.8)"
   ],
   "outputs": [
    {
     "name": "stdout",
     "output_type": "stream",
     "text": [
      "Ultralytics 8.3.152  Python-3.12.9 torch-2.5.1 CUDA:0 (NVIDIA GeForce RTX 2060, 6144MiB)\n",
      "\u001B[34m\u001B[1mengine\\trainer: \u001B[0magnostic_nms=False, amp=True, augment=False, auto_augment=randaugment, batch=0.8, bgr=0.0, box=7.5, cache=False, cfg=None, classes=None, close_mosaic=10, cls=0.5, conf=None, copy_paste=0.0, copy_paste_mode=flip, cos_lr=False, cutmix=0.0, data=bdd100k.yaml, degrees=0.0, deterministic=True, device=0, dfl=1.5, dnn=False, dropout=0.0, dynamic=False, embed=None, epochs=1, erasing=0.4, exist_ok=False, fliplr=0.5, flipud=0.0, format=torchscript, fraction=1.0, freeze=None, half=False, hsv_h=0.015, hsv_s=0.7, hsv_v=0.4, imgsz=640, int8=False, iou=0.7, keras=False, kobj=1.0, line_width=None, lr0=0.01, lrf=0.01, mask_ratio=4, max_det=300, mixup=0.0, mode=train, model=model/yolo11n.pt, momentum=0.937, mosaic=1.0, multi_scale=False, name=train, nbs=64, nms=False, opset=None, optimize=False, optimizer=auto, overlap_mask=True, patience=100, perspective=0.0, plots=True, pose=12.0, pretrained=True, profile=False, project=None, rect=False, resume=False, retina_masks=False, save=True, save_conf=False, save_crop=False, save_dir=runs\\detect\\train, save_frames=False, save_json=False, save_period=-1, save_txt=False, scale=0.5, seed=0, shear=0.0, show=False, show_boxes=True, show_conf=True, show_labels=True, simplify=True, single_cls=False, source=None, split=val, stream_buffer=False, task=detect, time=None, tracker=botsort.yaml, translate=0.1, val=True, verbose=True, vid_stride=1, visualize=False, warmup_bias_lr=0.1, warmup_epochs=3.0, warmup_momentum=0.8, weight_decay=0.0005, workers=8, workspace=None\n",
      "Overriding model.yaml nc=80 with nc=10\n",
      "\n",
      "                   from  n    params  module                                       arguments                     \n",
      "  0                  -1  1       464  ultralytics.nn.modules.conv.Conv             [3, 16, 3, 2]                 \n",
      "  1                  -1  1      4672  ultralytics.nn.modules.conv.Conv             [16, 32, 3, 2]                \n",
      "  2                  -1  1      6640  ultralytics.nn.modules.block.C3k2            [32, 64, 1, False, 0.25]      \n",
      "  3                  -1  1     36992  ultralytics.nn.modules.conv.Conv             [64, 64, 3, 2]                \n",
      "  4                  -1  1     26080  ultralytics.nn.modules.block.C3k2            [64, 128, 1, False, 0.25]     \n",
      "  5                  -1  1    147712  ultralytics.nn.modules.conv.Conv             [128, 128, 3, 2]              \n",
      "  6                  -1  1     87040  ultralytics.nn.modules.block.C3k2            [128, 128, 1, True]           \n",
      "  7                  -1  1    295424  ultralytics.nn.modules.conv.Conv             [128, 256, 3, 2]              \n",
      "  8                  -1  1    346112  ultralytics.nn.modules.block.C3k2            [256, 256, 1, True]           \n",
      "  9                  -1  1    164608  ultralytics.nn.modules.block.SPPF            [256, 256, 5]                 \n",
      " 10                  -1  1    249728  ultralytics.nn.modules.block.C2PSA           [256, 256, 1]                 \n",
      " 11                  -1  1         0  torch.nn.modules.upsampling.Upsample         [None, 2, 'nearest']          \n",
      " 12             [-1, 6]  1         0  ultralytics.nn.modules.conv.Concat           [1]                           \n",
      " 13                  -1  1    111296  ultralytics.nn.modules.block.C3k2            [384, 128, 1, False]          \n",
      " 14                  -1  1         0  torch.nn.modules.upsampling.Upsample         [None, 2, 'nearest']          \n",
      " 15             [-1, 4]  1         0  ultralytics.nn.modules.conv.Concat           [1]                           \n",
      " 16                  -1  1     32096  ultralytics.nn.modules.block.C3k2            [256, 64, 1, False]           \n",
      " 17                  -1  1     36992  ultralytics.nn.modules.conv.Conv             [64, 64, 3, 2]                \n",
      " 18            [-1, 13]  1         0  ultralytics.nn.modules.conv.Concat           [1]                           \n",
      " 19                  -1  1     86720  ultralytics.nn.modules.block.C3k2            [192, 128, 1, False]          \n",
      " 20                  -1  1    147712  ultralytics.nn.modules.conv.Conv             [128, 128, 3, 2]              \n",
      " 21            [-1, 10]  1         0  ultralytics.nn.modules.conv.Concat           [1]                           \n",
      " 22                  -1  1    378880  ultralytics.nn.modules.block.C3k2            [384, 256, 1, True]           \n",
      " 23        [16, 19, 22]  1    432622  ultralytics.nn.modules.head.Detect           [10, [64, 128, 256]]          \n",
      "YOLO11n summary: 181 layers, 2,591,790 parameters, 2,591,774 gradients, 6.5 GFLOPs\n",
      "\n",
      "Transferred 79/499 items from pretrained weights\n",
      "Freezing layer 'model.23.dfl.conv.weight'\n",
      "\u001B[34m\u001B[1mAMP: \u001B[0mrunning Automatic Mixed Precision (AMP) checks...\n",
      "Downloading https://github.com/ultralytics/assets/releases/download/v8.3.0/yolo11n.pt to 'yolo11n.pt'...\n"
     ]
    },
    {
     "name": "stderr",
     "output_type": "stream",
     "text": [
      "100%|██████████| 5.35M/5.35M [00:01<00:00, 5.33MB/s]\n"
     ]
    },
    {
     "name": "stdout",
     "output_type": "stream",
     "text": [
      "\u001B[34m\u001B[1mAMP: \u001B[0mchecks passed \n",
      "\u001B[34m\u001B[1mtrain: \u001B[0mFast image access  (ping: 0.10.0 ms, read: 66.324.4 MB/s, size: 63.2 KB)\n"
     ]
    },
    {
     "name": "stderr",
     "output_type": "stream",
     "text": [
      "\u001B[34m\u001B[1mtrain: \u001B[0mScanning C:\\Users\\Adam\\PycharmProjects\\um-projekt\\data\\labels\\train... 69863 images, 147 backgrounds, 0 corrupt: 100%|██████████| 70000/70000 [00:55<00:00, 1258.13it/s]\n"
     ]
    },
    {
     "name": "stdout",
     "output_type": "stream",
     "text": [
      "\u001B[34m\u001B[1mtrain: \u001B[0mNew cache created: C:\\Users\\Adam\\PycharmProjects\\um-projekt\\data\\labels\\train.cache\n",
      "\u001B[34m\u001B[1mAutoBatch: \u001B[0mComputing optimal batch size for imgsz=640 at 80.0% CUDA memory utilization.\n",
      "\u001B[34m\u001B[1mAutoBatch: \u001B[0mCUDA:0 (NVIDIA GeForce RTX 2060) 6.00G total, 0.11G reserved, 0.06G allocated, 5.83G free\n",
      "      Params      GFLOPs  GPU_mem (GB)  forward (ms) backward (ms)                   input                  output\n",
      "     2591790        6.45         0.493         63.93         331.8        (1, 3, 640, 640)                    list\n",
      "     2591790        12.9         0.650         95.12         174.3        (2, 3, 640, 640)                    list\n",
      "     2591790        25.8         1.009         63.49         158.5        (4, 3, 640, 640)                    list\n",
      "     2591790        51.6         1.667         47.07         143.2        (8, 3, 640, 640)                    list\n",
      "     2591790       103.2         2.982         62.94         142.2       (16, 3, 640, 640)                    list\n",
      "\u001B[34m\u001B[1mAutoBatch: \u001B[0mUsing batch-size 28 for CUDA:0 5.15G/6.00G (86%) \n",
      "\u001B[34m\u001B[1mtrain: \u001B[0mFast image access  (ping: 0.10.0 ms, read: 432.3150.1 MB/s, size: 54.9 KB)\n"
     ]
    },
    {
     "name": "stderr",
     "output_type": "stream",
     "text": [
      "\u001B[34m\u001B[1mtrain: \u001B[0mScanning C:\\Users\\Adam\\PycharmProjects\\um-projekt\\data\\labels\\train.cache... 69863 images, 147 backgrounds, 0 corrupt: 100%|██████████| 70000/70000 [00:00<?, ?it/s]\n",
      "\u001B[34m\u001B[1mtrain: \u001B[0mScanning C:\\Users\\Adam\\PycharmProjects\\um-projekt\\data\\labels\\train... 30792 images, 7 backgrounds, 0 corrupt:  44%|████▍     | 30792/70000 [00:26<00:31, 1250.99it/s]s]"
     ]
    },
    {
     "name": "stdout",
     "output_type": "stream",
     "text": [
      "\u001B[34m\u001B[1mval: \u001B[0mFast image access  (ping: 0.30.2 ms, read: 30.314.3 MB/s, size: 55.7 KB)\n"
     ]
    },
    {
     "name": "stderr",
     "output_type": "stream",
     "text": [
      "\u001B[34m\u001B[1mval: \u001B[0mScanning C:\\Users\\Adam\\PycharmProjects\\um-projekt\\data\\labels\\val.cache... 10000 images, 0 backgrounds, 0 corrupt: 100%|██████████| 10000/10000 [00:00<?, ?it/s]\n"
     ]
    },
    {
     "name": "stdout",
     "output_type": "stream",
     "text": [
      "Plotting labels to runs\\detect\\train\\labels.jpg... \n",
      "\u001B[34m\u001B[1moptimizer:\u001B[0m 'optimizer=auto' found, ignoring 'lr0=0.01' and 'momentum=0.937' and determining best 'optimizer', 'lr0' and 'momentum' automatically... \n",
      "\u001B[34m\u001B[1moptimizer:\u001B[0m AdamW(lr=0.000714, momentum=0.9) with parameter groups 81 weight(decay=0.0), 88 weight(decay=0.0004375), 87 bias(decay=0.0)\n",
      "Image sizes 640 train, 640 val\n",
      "Using 8 dataloader workers\n",
      "Logging results to \u001B[1mruns\\detect\\train\u001B[0m\n",
      "Starting training for 1 epochs...\n",
      "\n",
      "      Epoch    GPU_mem   box_loss   cls_loss   dfl_loss  Instances       Size\n"
     ]
    },
    {
     "name": "stderr",
     "output_type": "stream",
     "text": [
      "        1/1      5.89G      1.846      1.829      1.254        824        640: 100%|██████████| 2500/2500 [18:27<00:00,  2.26it/s]\n",
      "                 Class     Images  Instances      Box(P          R      mAP50  mAP50-95): 100%|██████████| 179/179 [01:38<00:00,  1.82it/s]\n"
     ]
    },
    {
     "name": "stdout",
     "output_type": "stream",
     "text": [
      "                   all      10000     186033      0.461      0.232      0.222      0.121\n",
      "\n",
      "1 epochs completed in 0.336 hours.\n",
      "Optimizer stripped from runs\\detect\\train\\weights\\last.pt, 5.4MB\n",
      "Optimizer stripped from runs\\detect\\train\\weights\\best.pt, 5.4MB\n",
      "\n",
      "Validating runs\\detect\\train\\weights\\best.pt...\n",
      "Ultralytics 8.3.152  Python-3.12.9 torch-2.5.1 CUDA:0 (NVIDIA GeForce RTX 2060, 6144MiB)\n",
      "YOLO11n summary (fused): 100 layers, 2,584,102 parameters, 0 gradients, 6.3 GFLOPs\n"
     ]
    },
    {
     "name": "stderr",
     "output_type": "stream",
     "text": [
      "                 Class     Images  Instances      Box(P          R      mAP50  mAP50-95): 100%|██████████| 179/179 [01:26<00:00,  2.07it/s]\n"
     ]
    },
    {
     "name": "stdout",
     "output_type": "stream",
     "text": [
      "                   all      10000     186033      0.461      0.232      0.223      0.121\n",
      "            pedestrian       3261      13426      0.397      0.379      0.338      0.151\n",
      "                 rider        527        658      0.321     0.0456     0.0577     0.0224\n",
      "                   car       9882     102922      0.484       0.64      0.613      0.368\n",
      "                 truck       2734       4245      0.377      0.314      0.277      0.191\n",
      "                   bus       1299       1660      0.333      0.304      0.258      0.195\n",
      "                 train         14         15          1          0          0          0\n",
      "            motorcycle        346        460        0.3    0.00217     0.0296     0.0132\n",
      "               bicycle        592       1039      0.508     0.0741      0.115     0.0485\n",
      "         traffic light       5651      26884      0.389      0.282      0.237     0.0746\n",
      "          traffic sign       8211      34724      0.504      0.282        0.3      0.148\n",
      "Speed: 0.2ms preprocess, 1.3ms inference, 0.0ms loss, 2.0ms postprocess per image\n",
      "Results saved to \u001B[1mruns\\detect\\train\u001B[0m\n"
     ]
    }
   ],
   "execution_count": 6
  },
  {
   "cell_type": "code",
   "id": "276fb640",
   "metadata": {
    "ExecuteTime": {
     "end_time": "2025-06-10T21:27:19.665805Z",
     "start_time": "2025-06-10T21:27:18.869142Z"
    }
   },
   "source": [
    "after_training_results = model.predict('data/images/test', stream=True)\n",
    "\n",
    "for r in after_training_results:\n",
    "    # r.boxes\n",
    "    # r.names\n",
    "    r.show()\n",
    "    break\n",
    "\n",
    "after_training_results=None"
   ],
   "outputs": [
    {
     "name": "stdout",
     "output_type": "stream",
     "text": [
      "\n",
      "image 1/20000 C:\\Users\\Adam\\PycharmProjects\\um-projekt\\data\\images\\test\\cabc30fc-e7726578.jpg: 384x640 1 person, 4 cars, 45.4ms\n"
     ]
    }
   ],
   "execution_count": 7
  },
  {
   "metadata": {
    "ExecuteTime": {
     "end_time": "2025-06-10T21:29:35.715169Z",
     "start_time": "2025-06-10T21:27:36.967176Z"
    }
   },
   "cell_type": "code",
   "source": [
    "metrics = model.val(data=\"bdd100k.yaml\")\n",
    "\n",
    "print(metrics.box.map_per_class)  # mAP50 dla każdej klasy\n",
    "print(metrics.names)              # odpowiadające klasy"
   ],
   "id": "2f10e7e81b2d630",
   "outputs": [
    {
     "name": "stdout",
     "output_type": "stream",
     "text": [
      "Ultralytics 8.3.152  Python-3.12.9 torch-2.5.1 CUDA:0 (NVIDIA GeForce RTX 2060, 6144MiB)\n",
      "YOLO11n summary (fused): 100 layers, 2,584,102 parameters, 0 gradients, 6.3 GFLOPs\n",
      "\u001B[34m\u001B[1mval: \u001B[0mFast image access  (ping: 0.00.0 ms, read: 381.7242.4 MB/s, size: 53.3 KB)\n"
     ]
    },
    {
     "name": "stderr",
     "output_type": "stream",
     "text": [
      "\u001B[34m\u001B[1mval: \u001B[0mScanning C:\\Users\\Adam\\PycharmProjects\\um-projekt\\data\\labels\\val.cache... 10000 images, 0 backgrounds, 0 corrupt: 100%|██████████| 10000/10000 [00:00<?, ?it/s]\n",
      "                 Class     Images  Instances      Box(P          R      mAP50  mAP50-95): 100%|██████████| 358/358 [01:27<00:00,  4.08it/s]\n"
     ]
    },
    {
     "name": "stdout",
     "output_type": "stream",
     "text": [
      "                   all      10000     186033      0.461      0.232      0.223      0.121\n",
      "            pedestrian       3261      13426      0.397      0.379      0.339      0.152\n",
      "                 rider        527        658      0.322     0.0456     0.0575     0.0225\n",
      "                   car       9882     102922      0.484       0.64      0.613      0.369\n",
      "                 truck       2734       4245      0.376      0.314      0.277      0.191\n",
      "                   bus       1299       1660      0.332      0.304      0.258      0.194\n",
      "                 train         14         15          1          0          0          0\n",
      "            motorcycle        346        460        0.3    0.00217       0.03     0.0132\n",
      "               bicycle        592       1039      0.505     0.0741      0.115     0.0488\n",
      "         traffic light       5651      26884       0.39      0.283      0.238     0.0752\n",
      "          traffic sign       8211      34724      0.505      0.282      0.301      0.149\n",
      "Speed: 0.2ms preprocess, 2.3ms inference, 0.0ms loss, 1.5ms postprocess per image\n",
      "Results saved to \u001B[1mruns\\detect\\train3\u001B[0m\n"
     ]
    },
    {
     "ename": "AttributeError",
     "evalue": "'Metric' object has no attribute 'map_per_class'. See valid attributes below.\n\n    Class for computing evaluation metrics for Ultralytics YOLO models.\n\n    Attributes:\n        p (list): Precision for each class. Shape: (nc,).\n        r (list): Recall for each class. Shape: (nc,).\n        f1 (list): F1 score for each class. Shape: (nc,).\n        all_ap (list): AP scores for all classes and all IoU thresholds. Shape: (nc, 10).\n        ap_class_index (list): Index of class for each AP score. Shape: (nc,).\n        nc (int): Number of classes.\n\n    Methods:\n        ap50(): AP at IoU threshold of 0.5 for all classes. Returns: List of AP scores. Shape: (nc,) or [].\n        ap(): AP at IoU thresholds from 0.5 to 0.95 for all classes. Returns: List of AP scores. Shape: (nc,) or [].\n        mp(): Mean precision of all classes. Returns: Float.\n        mr(): Mean recall of all classes. Returns: Float.\n        map50(): Mean AP at IoU threshold of 0.5 for all classes. Returns: Float.\n        map75(): Mean AP at IoU threshold of 0.75 for all classes. Returns: Float.\n        map(): Mean AP at IoU thresholds from 0.5 to 0.95 for all classes. Returns: Float.\n        mean_results(): Mean of results, returns mp, mr, map50, map.\n        class_result(i): Class-aware result, returns p[i], r[i], ap50[i], ap[i].\n        maps(): mAP of each class. Returns: Array of mAP scores, shape: (nc,).\n        fitness(): Model fitness as a weighted combination of metrics. Returns: Float.\n        update(results): Update metric attributes with new evaluation results.\n    ",
     "output_type": "error",
     "traceback": [
      "\u001B[31m---------------------------------------------------------------------------\u001B[39m",
      "\u001B[31mAttributeError\u001B[39m                            Traceback (most recent call last)",
      "\u001B[36mCell\u001B[39m\u001B[36m \u001B[39m\u001B[32mIn[8]\u001B[39m\u001B[32m, line 3\u001B[39m\n\u001B[32m      1\u001B[39m metrics = model.val(data=\u001B[33m\"\u001B[39m\u001B[33mbdd100k.yaml\u001B[39m\u001B[33m\"\u001B[39m)\n\u001B[32m----> \u001B[39m\u001B[32m3\u001B[39m \u001B[38;5;28mprint\u001B[39m(metrics.box.map_per_class)  \u001B[38;5;66;03m# mAP50 dla każdej klasy\u001B[39;00m\n\u001B[32m      4\u001B[39m \u001B[38;5;28mprint\u001B[39m(metrics.names)\n",
      "\u001B[36mFile \u001B[39m\u001B[32m~\\miniconda3\\envs\\ssn-projekt\\Lib\\site-packages\\ultralytics\\utils\\__init__.py:394\u001B[39m, in \u001B[36mSimpleClass.__getattr__\u001B[39m\u001B[34m(self, attr)\u001B[39m\n\u001B[32m    392\u001B[39m \u001B[38;5;250m\u001B[39m\u001B[33;03m\"\"\"Provide a custom attribute access error message with helpful information.\"\"\"\u001B[39;00m\n\u001B[32m    393\u001B[39m name = \u001B[38;5;28mself\u001B[39m.\u001B[34m__class__\u001B[39m.\u001B[34m__name__\u001B[39m\n\u001B[32m--> \u001B[39m\u001B[32m394\u001B[39m \u001B[38;5;28;01mraise\u001B[39;00m \u001B[38;5;167;01mAttributeError\u001B[39;00m(\u001B[33mf\u001B[39m\u001B[33m\"\u001B[39m\u001B[33m'\u001B[39m\u001B[38;5;132;01m{\u001B[39;00mname\u001B[38;5;132;01m}\u001B[39;00m\u001B[33m'\u001B[39m\u001B[33m object has no attribute \u001B[39m\u001B[33m'\u001B[39m\u001B[38;5;132;01m{\u001B[39;00mattr\u001B[38;5;132;01m}\u001B[39;00m\u001B[33m'\u001B[39m\u001B[33m. See valid attributes below.\u001B[39m\u001B[38;5;130;01m\\n\u001B[39;00m\u001B[38;5;132;01m{\u001B[39;00m\u001B[38;5;28mself\u001B[39m.\u001B[34m__doc__\u001B[39m\u001B[38;5;132;01m}\u001B[39;00m\u001B[33m\"\u001B[39m)\n",
      "\u001B[31mAttributeError\u001B[39m: 'Metric' object has no attribute 'map_per_class'. See valid attributes below.\n\n    Class for computing evaluation metrics for Ultralytics YOLO models.\n\n    Attributes:\n        p (list): Precision for each class. Shape: (nc,).\n        r (list): Recall for each class. Shape: (nc,).\n        f1 (list): F1 score for each class. Shape: (nc,).\n        all_ap (list): AP scores for all classes and all IoU thresholds. Shape: (nc, 10).\n        ap_class_index (list): Index of class for each AP score. Shape: (nc,).\n        nc (int): Number of classes.\n\n    Methods:\n        ap50(): AP at IoU threshold of 0.5 for all classes. Returns: List of AP scores. Shape: (nc,) or [].\n        ap(): AP at IoU thresholds from 0.5 to 0.95 for all classes. Returns: List of AP scores. Shape: (nc,) or [].\n        mp(): Mean precision of all classes. Returns: Float.\n        mr(): Mean recall of all classes. Returns: Float.\n        map50(): Mean AP at IoU threshold of 0.5 for all classes. Returns: Float.\n        map75(): Mean AP at IoU threshold of 0.75 for all classes. Returns: Float.\n        map(): Mean AP at IoU thresholds from 0.5 to 0.95 for all classes. Returns: Float.\n        mean_results(): Mean of results, returns mp, mr, map50, map.\n        class_result(i): Class-aware result, returns p[i], r[i], ap50[i], ap[i].\n        maps(): mAP of each class. Returns: Array of mAP scores, shape: (nc,).\n        fitness(): Model fitness as a weighted combination of metrics. Returns: Float.\n        update(results): Update metric attributes with new evaluation results.\n    "
     ]
    }
   ],
   "execution_count": 8
  }
 ],
 "metadata": {
  "kernelspec": {
   "display_name": "Python 3",
   "language": "python",
   "name": "python3"
  },
  "language_info": {
   "codemirror_mode": {
    "name": "ipython",
    "version": 3
   },
   "file_extension": ".py",
   "mimetype": "text/x-python",
   "name": "python",
   "nbconvert_exporter": "python",
   "pygments_lexer": "ipython3",
   "version": "3.13.3"
  }
 },
 "nbformat": 4,
 "nbformat_minor": 5
}
